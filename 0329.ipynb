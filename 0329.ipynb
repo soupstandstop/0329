{
 "cells": [
  {
   "cell_type": "code",
   "execution_count": 1,
   "metadata": {},
   "outputs": [
    {
     "name": "stdout",
     "output_type": "stream",
     "text": [
      "(891, 12)\n",
      "(418, 11)\n"
     ]
    }
   ],
   "source": [
    "import pandas as pd\n",
    "import numpy as np\n",
    "from matplotlib import pyplot as plt\n",
    "# matplotlib.style.use('ggplot')\n",
    "\n",
    "train = pd.read_csv('/Users/soup/Desktop/train.csv')\n",
    "test = pd.read_csv('/Users/soup/Desktop/test.csv')\n",
    "\n",
    "print(train.shape)\n",
    "print(test.shape)"
   ]
  },
  {
   "cell_type": "markdown",
   "metadata": {},
   "source": [
    "# 1234567"
   ]
  },
  {
   "cell_type": "markdown",
   "metadata": {},
   "source": [
    "## 8910"
   ]
  },
  {
   "cell_type": "markdown",
   "metadata": {},
   "source": [
    "### 111213 "
   ]
  },
  {
   "cell_type": "code",
   "execution_count": null,
   "metadata": {},
   "outputs": [],
   "source": [
    "print(All_titanic.columns.values) # 印各行的title\n",
    "\n",
    "Sex = train_sex_nan.groupby(\"Sex\") # 將資料依據性別分組\n",
    "print(Sex.size()) # 男生女生各有幾人\n",
    "print('---------------------')"
   ]
  },
  {
   "cell_type": "code",
   "execution_count": 6,
   "metadata": {},
   "outputs": [
    {
     "name": "stdout",
     "output_type": "stream",
     "text": [
      "female    233\n",
      "male      109\n",
      "Name: Sex, dtype: int64\n",
      "---------------------\n",
      "male      468\n",
      "female     81\n",
      "Name: Sex, dtype: int64\n",
      "---------------------\n",
      "          female  male\n",
      "Survived     233   109\n",
      "Dead          81   468\n",
      "---------------------\n"
     ]
    },
    {
     "data": {
      "image/png": "[encoded data removed]",
      "text/plain": [
       "<Figure size 432x288 with 1 Axes>"
      ]
     },
     "metadata": {},
     "output_type": "display_data"
    }
   ],
   "source": [
    "survived_sex = train[train['Survived']==1]['Sex'].value_counts() # 從有生存的資料中計算各性別人數\n",
    "print(survived_sex)\n",
    "print('---------------------')\n",
    "deaded_sex = train[train['Survived']==0]['Sex'].value_counts() # 從沒有生存的資料中計算各性別人數\n",
    "print(deaded_sex)\n",
    "print('---------------------')\n",
    "df = pd.DataFrame([survived_sex, deaded_sex]) # 將有生存、沒生存的資料依照性別放成一表格\n",
    "df.index = ['Survived', 'Dead'] # 將原本的tag改為存活、非存活\n",
    "print(df)\n",
    "print('---------------------')\n",
    "df.plot(kind='bar', stacked=False, color=['r', 'b']) # 依照性別畫倖存人數、非倖存人數\n",
    "plt.show() # 顯示圖"
   ]
  },
  {
   "cell_type": "code",
   "execution_count": null,
   "metadata": {},
   "outputs": [],
   "source": []
  }
 ],
 "metadata": {
  "kernelspec": {
   "display_name": "Python 3",
   "language": "python",
   "name": "python3"
  },
  "language_info": {
   "codemirror_mode": {
    "name": "ipython",
    "version": 3
   },
   "file_extension": ".py",
   "mimetype": "text/x-python",
   "name": "python",
   "nbconvert_exporter": "python",
   "pygments_lexer": "ipython3",
   "version": "3.6.4"
  }
 },
 "nbformat": 4,
 "nbformat_minor": 2
}
